{
  "nbformat": 4,
  "nbformat_minor": 0,
  "metadata": {
    "colab": {
      "provenance": []
    },
    "kernelspec": {
      "name": "python3",
      "display_name": "Python 3"
    },
    "language_info": {
      "name": "python"
    }
  },
  "cells": [
    {
      "cell_type": "markdown",
      "source": [
        "PART 1"
      ],
      "metadata": {
        "id": "ES-zqHbmCQTw"
      }
    },
    {
      "cell_type": "code",
      "source": [
        "#LOAD THE DATASET\n",
        "#part1\n",
        "import pandas as pd\n",
        "dataframe=pd.read_csv(\"/content/sample_data/california_housing_train.csv\")\n",
        "#part2\n",
        "print(dataframe.head())\n",
        "print(dataframe.tail(10))\n",
        "\n",
        "#DATA SUMMARY\n",
        "#part1\n",
        "summary=dataframe.describe()\n",
        "print(summary)\n",
        "#part2\n",
        "uniquevalues=dataframe['total_bedrooms'].unique()\n",
        "distinct=dataframe['total_bedrooms'].nunique()\n",
        "print(uniquevalues)\n",
        "print(distinct)\n",
        "\n",
        "#DATA TRANSFORMATION\n",
        "#part1\n",
        "dataframe['total_bedrooms_per_total_rooms']=dataframe['total_bedrooms']/dataframe['total_rooms']\n",
        "#part2\n",
        "mean=dataframe['total_bedrooms_per_total_rooms'].mean()\n",
        "standard_deviation=dataframe['total_bedrooms_per_total_rooms'].std()\n",
        "print(mean)\n",
        "print(standard_deviation)\n",
        "\n",
        "#DATA FILTERING\n",
        "#part1\n",
        "filtered=dataframe[dataframe['median_income'] > 5]\n",
        "print(filtered)\n",
        "#part2\n",
        "subset = dataframe[(dataframe['total_rooms'] > 10000) & (dataframe['median_house_value'] < 150000)]\n",
        "print(subset)\n",
        "\n",
        "#EXPORT MODIFIED DATA\n",
        "dataframe.to_csv('modified_csv', index=False)\n",
        "\n",
        "\n",
        "\n",
        "\n"
      ],
      "metadata": {
        "id": "Lj4BS_3NCO-L"
      },
      "execution_count": null,
      "outputs": []
    },
    {
      "cell_type": "markdown",
      "source": [
        "PART 2"
      ],
      "metadata": {
        "id": "3VjGYhyfXpPa"
      }
    },
    {
      "cell_type": "code",
      "source": [
        "#ARRAY CREATION AND INDEXING\n",
        "import numpy as np\n",
        "#part1\n",
        "arr=np.arange(1,21)\n",
        "print(arr)\n",
        "#part2\n",
        "even=arr[1::2]\n",
        "print(even)\n",
        "#part3\n",
        "array=np.random.randint(10,100,size=(5,4))\n",
        "print(array)\n",
        "#part4\n",
        "subarray=array[:3,:2]\n",
        "print(subarray)\n",
        "\n",
        "#ARRAY MANIPULATION\n",
        "#part1\n",
        "newarray=arr.reshape(4,5)\n",
        "print(newarray)\n",
        "#part2\n",
        "flattened=newarray.flatten()\n",
        "print(flattened)\n",
        "#part3\n",
        "array2=np.random.randint(10,100,size=(5,5))\n",
        "result=np.dot(newarray,array2)\n",
        "print(result)\n",
        "\n",
        "#BOOLEAN AND FANCY INDEXING\n",
        "#part1\n",
        "random_array=np.random.randint(0,100,size=50)\n",
        "print(random_array)\n",
        "#part2\n",
        "final=random_array[random_array>50]\n",
        "print(final)\n",
        "#part3\n",
        "indices=[1,5,9,10]\n",
        "final1=random_array[indices]\n",
        "print(final1)\n",
        "\n",
        "#STATISTICAL OPERATIONS\n",
        "#part1\n",
        "mean=np.mean(array,axis=0)\n",
        "max=np.max(array,axis=0)\n",
        "sum=np.sum(array,axis=0)\n",
        "print(mean)\n",
        "print(max)\n",
        "print(sum)\n",
        "#part2\n",
        "mask=array>mean\n",
        "filteredarray=array[mask]\n",
        "print(mask)\n",
        "print(filteredarray)\n"
      ],
      "metadata": {
        "id": "RCndUJPMXo9s"
      },
      "execution_count": null,
      "outputs": []
    },
    {
      "cell_type": "markdown",
      "source": [
        "PART 3"
      ],
      "metadata": {
        "id": "-TWsR-1PEjzh"
      }
    },
    {
      "cell_type": "markdown",
      "source": [
        "1. Fibonacci series"
      ],
      "metadata": {
        "id": "6KnntJ6YFaJJ"
      }
    },
    {
      "cell_type": "code",
      "source": [
        "a,b=0,1\n",
        "while(a<=100):\n",
        "  print(a )\n",
        "  a,b=b,a+b"
      ],
      "metadata": {
        "id": "86tu-M80Ehjw"
      },
      "execution_count": null,
      "outputs": []
    },
    {
      "cell_type": "markdown",
      "source": [
        "2. loop through 1 to 50"
      ],
      "metadata": {
        "id": "SxspbouGF1fS"
      }
    },
    {
      "cell_type": "code",
      "source": [
        "for numbers in range(1,50):\n",
        "  if numbers%3==0:\n",
        "    print(\"Fizz\")\n",
        "  elif numbers%5==0:\n",
        "    print(\"Buzz\")\n",
        "  elif numbers%3==0 and numbers%5==0:\n",
        "    print(\"FizzBuzz\")\n",
        "  else:\n",
        "    print(numbers)"
      ],
      "metadata": {
        "id": "baPeEGlJGGDc"
      },
      "execution_count": null,
      "outputs": []
    },
    {
      "cell_type": "markdown",
      "source": [
        "1. Median"
      ],
      "metadata": {
        "id": "izflX-yXITxv"
      }
    },
    {
      "cell_type": "code",
      "source": [
        "numlist=[int(i) for i in input(\"Enter numbers: \").split()]\n",
        "numlist.sort()\n",
        "l=len(numlist)\n",
        "if (l%2)!=0:\n",
        "  median=numlist[l//2]\n",
        "  print(median)\n",
        "else:\n",
        "  median=(numlist[(l//2)-1]+numlist[l//2])/2\n",
        "  print(median)\n"
      ],
      "metadata": {
        "id": "n7WCseAOIc3a"
      },
      "execution_count": null,
      "outputs": []
    },
    {
      "cell_type": "markdown",
      "source": [
        "2. Average"
      ],
      "metadata": {
        "id": "1L1cBYpTMTSM"
      }
    },
    {
      "cell_type": "code",
      "source": [
        "n=int(input(\"Enter the total numbers: \"))\n",
        "sum=0\n",
        "print(\"Enter\",n,\"numbers for average: \")\n",
        "for i in range(n):\n",
        "  sum=sum+float(input())\n",
        "\n",
        "\n",
        "average = sum / n\n",
        "print(\"Average is:\", average)"
      ],
      "metadata": {
        "id": "Y8iVzoN0XGmX"
      },
      "execution_count": null,
      "outputs": []
    }
  ]
}